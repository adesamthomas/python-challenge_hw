{
 "cells": [
  {
   "cell_type": "markdown",
   "metadata": {},
   "source": [
    "### Heroes Of Pymoli Data Analysis\n",
    "* Of the 1163 active players, the vast majority are male (84%). There also exists, a smaller, but notable proportion of female players (14%).\n",
    "\n",
    "* Our peak age demographic falls between 20-24 (44.8%) with secondary groups falling between 15-19 (18.60%) and 25-29 (13.4%).  \n",
    "-----"
   ]
  },
  {
   "cell_type": "markdown",
   "metadata": {},
   "source": [
    "### Note\n",
    "* Instructions have been included for each segment. You do not have to follow them exactly, but they are included to help you think through the steps."
   ]
  },
  {
   "cell_type": "code",
   "execution_count": 1,
   "metadata": {},
   "outputs": [
    {
     "data": {
      "text/html": [
       "<div>\n",
       "<style scoped>\n",
       "    .dataframe tbody tr th:only-of-type {\n",
       "        vertical-align: middle;\n",
       "    }\n",
       "\n",
       "    .dataframe tbody tr th {\n",
       "        vertical-align: top;\n",
       "    }\n",
       "\n",
       "    .dataframe thead th {\n",
       "        text-align: right;\n",
       "    }\n",
       "</style>\n",
       "<table border=\"1\" class=\"dataframe\">\n",
       "  <thead>\n",
       "    <tr style=\"text-align: right;\">\n",
       "      <th></th>\n",
       "      <th>Purchase ID</th>\n",
       "      <th>SN</th>\n",
       "      <th>Age</th>\n",
       "      <th>Gender</th>\n",
       "      <th>Item ID</th>\n",
       "      <th>Item Name</th>\n",
       "      <th>Price</th>\n",
       "    </tr>\n",
       "  </thead>\n",
       "  <tbody>\n",
       "    <tr>\n",
       "      <th>0</th>\n",
       "      <td>0</td>\n",
       "      <td>Lisim78</td>\n",
       "      <td>20</td>\n",
       "      <td>Male</td>\n",
       "      <td>108</td>\n",
       "      <td>Extraction, Quickblade Of Trembling Hands</td>\n",
       "      <td>3.53</td>\n",
       "    </tr>\n",
       "    <tr>\n",
       "      <th>1</th>\n",
       "      <td>1</td>\n",
       "      <td>Lisovynya38</td>\n",
       "      <td>40</td>\n",
       "      <td>Male</td>\n",
       "      <td>143</td>\n",
       "      <td>Frenzied Scimitar</td>\n",
       "      <td>1.56</td>\n",
       "    </tr>\n",
       "    <tr>\n",
       "      <th>2</th>\n",
       "      <td>2</td>\n",
       "      <td>Ithergue48</td>\n",
       "      <td>24</td>\n",
       "      <td>Male</td>\n",
       "      <td>92</td>\n",
       "      <td>Final Critic</td>\n",
       "      <td>4.88</td>\n",
       "    </tr>\n",
       "    <tr>\n",
       "      <th>3</th>\n",
       "      <td>3</td>\n",
       "      <td>Chamassasya86</td>\n",
       "      <td>24</td>\n",
       "      <td>Male</td>\n",
       "      <td>100</td>\n",
       "      <td>Blindscythe</td>\n",
       "      <td>3.27</td>\n",
       "    </tr>\n",
       "    <tr>\n",
       "      <th>4</th>\n",
       "      <td>4</td>\n",
       "      <td>Iskosia90</td>\n",
       "      <td>23</td>\n",
       "      <td>Male</td>\n",
       "      <td>131</td>\n",
       "      <td>Fury</td>\n",
       "      <td>1.44</td>\n",
       "    </tr>\n",
       "  </tbody>\n",
       "</table>\n",
       "</div>"
      ],
      "text/plain": [
       "   Purchase ID             SN  Age Gender  Item ID  \\\n",
       "0            0        Lisim78   20   Male      108   \n",
       "1            1    Lisovynya38   40   Male      143   \n",
       "2            2     Ithergue48   24   Male       92   \n",
       "3            3  Chamassasya86   24   Male      100   \n",
       "4            4      Iskosia90   23   Male      131   \n",
       "\n",
       "                                   Item Name  Price  \n",
       "0  Extraction, Quickblade Of Trembling Hands   3.53  \n",
       "1                          Frenzied Scimitar   1.56  \n",
       "2                               Final Critic   4.88  \n",
       "3                                Blindscythe   3.27  \n",
       "4                                       Fury   1.44  "
      ]
     },
     "execution_count": 1,
     "metadata": {},
     "output_type": "execute_result"
    }
   ],
   "source": [
    "# Dependencies and Setup\n",
    "import pandas as pd\n",
    "import numpy as np\n",
    "\n",
    "# File to Load (Remember to Change These)\n",
    "file = \"purchase_data.csv\"\n",
    "\n",
    "# Read Purchasing File and store into Pandas data frame\n",
    "purchase_data_df = pd.read_csv(file, encoding=\"utf-8\")\n",
    "purchase_data_df.head()\n"
   ]
  },
  {
   "cell_type": "markdown",
   "metadata": {},
   "source": [
    "## Player Count"
   ]
  },
  {
   "cell_type": "markdown",
   "metadata": {},
   "source": [
    "* Display the total number of players\n"
   ]
  },
  {
   "cell_type": "code",
   "execution_count": 2,
   "metadata": {},
   "outputs": [
    {
     "data": {
      "text/html": [
       "<div>\n",
       "<style scoped>\n",
       "    .dataframe tbody tr th:only-of-type {\n",
       "        vertical-align: middle;\n",
       "    }\n",
       "\n",
       "    .dataframe tbody tr th {\n",
       "        vertical-align: top;\n",
       "    }\n",
       "\n",
       "    .dataframe thead th {\n",
       "        text-align: right;\n",
       "    }\n",
       "</style>\n",
       "<table border=\"1\" class=\"dataframe\">\n",
       "  <thead>\n",
       "    <tr style=\"text-align: right;\">\n",
       "      <th></th>\n",
       "      <th>Total Players</th>\n",
       "    </tr>\n",
       "  </thead>\n",
       "  <tbody>\n",
       "    <tr>\n",
       "      <th>0</th>\n",
       "      <td>576</td>\n",
       "    </tr>\n",
       "  </tbody>\n",
       "</table>\n",
       "</div>"
      ],
      "text/plain": [
       "   Total Players\n",
       "0            576"
      ]
     },
     "execution_count": 2,
     "metadata": {},
     "output_type": "execute_result"
    }
   ],
   "source": [
    "total_players = purchase_data_df['SN'].nunique()\n",
    "#total_players\n",
    "\n",
    "pd.DataFrame([total_players], columns = [\"Total Players\"])"
   ]
  },
  {
   "cell_type": "markdown",
   "metadata": {},
   "source": [
    "## Purchasing Analysis (Total)"
   ]
  },
  {
   "cell_type": "markdown",
   "metadata": {},
   "source": [
    "* Run basic calculations to obtain number of unique items, average price, etc.\n",
    "\n",
    "\n",
    "* Create a summary data frame to hold the results\n",
    "\n",
    "\n",
    "* Optional: give the displayed data cleaner formatting\n",
    "\n",
    "\n",
    "* Display the summary data frame\n"
   ]
  },
  {
   "cell_type": "code",
   "execution_count": 3,
   "metadata": {
    "scrolled": true
   },
   "outputs": [
    {
     "data": {
      "text/html": [
       "<div>\n",
       "<style scoped>\n",
       "    .dataframe tbody tr th:only-of-type {\n",
       "        vertical-align: middle;\n",
       "    }\n",
       "\n",
       "    .dataframe tbody tr th {\n",
       "        vertical-align: top;\n",
       "    }\n",
       "\n",
       "    .dataframe thead th {\n",
       "        text-align: right;\n",
       "    }\n",
       "</style>\n",
       "<table border=\"1\" class=\"dataframe\">\n",
       "  <thead>\n",
       "    <tr style=\"text-align: right;\">\n",
       "      <th></th>\n",
       "      <th>Number of Unique Items</th>\n",
       "      <th>Average Price</th>\n",
       "      <th>Number of Purchases</th>\n",
       "      <th>Total Revenue</th>\n",
       "    </tr>\n",
       "  </thead>\n",
       "  <tbody>\n",
       "    <tr>\n",
       "      <th>0</th>\n",
       "      <td>183</td>\n",
       "      <td>$3.05</td>\n",
       "      <td>780</td>\n",
       "      <td>$2379.77</td>\n",
       "    </tr>\n",
       "  </tbody>\n",
       "</table>\n",
       "</div>"
      ],
      "text/plain": [
       "   Number of Unique Items Average Price  Number of Purchases Total Revenue\n",
       "0                     183         $3.05                  780      $2379.77"
      ]
     },
     "execution_count": 3,
     "metadata": {},
     "output_type": "execute_result"
    }
   ],
   "source": [
    "unique_items = purchase_data_df['Item ID'].nunique()\n",
    "average_price = round(purchase_data_df['Price'].mean(), 2)\n",
    "purchases = purchase_data_df['Purchase ID'].count()\n",
    "total_revenue = round(purchase_data_df['Price'].sum(), 2)\n",
    "\n",
    "#create a list to get all values for table\n",
    "analysis_df = []\n",
    "#items in list:\n",
    "analysis_df.append(unique_items)\n",
    "analysis_df.append(\"$\" + str(average_price))\n",
    "analysis_df.append(purchases)\n",
    "analysis_df.append(\"$\" + str(total_revenue))\n",
    "\n",
    "pd.DataFrame([analysis_df], columns = [\"Number of Unique Items\", \"Average Price\", \"Number of Purchases\", \"Total Revenue\"])"
   ]
  },
  {
   "cell_type": "markdown",
   "metadata": {},
   "source": [
    "## Gender Demographics"
   ]
  },
  {
   "cell_type": "markdown",
   "metadata": {},
   "source": [
    "* Percentage and Count of Male Players\n",
    "\n",
    "\n",
    "* Percentage and Count of Female Players\n",
    "\n",
    "\n",
    "* Percentage and Count of Other / Non-Disclosed\n",
    "\n",
    "\n"
   ]
  },
  {
   "cell_type": "code",
   "execution_count": 4,
   "metadata": {},
   "outputs": [
    {
     "data": {
      "text/html": [
       "<div>\n",
       "<style scoped>\n",
       "    .dataframe tbody tr th:only-of-type {\n",
       "        vertical-align: middle;\n",
       "    }\n",
       "\n",
       "    .dataframe tbody tr th {\n",
       "        vertical-align: top;\n",
       "    }\n",
       "\n",
       "    .dataframe thead th {\n",
       "        text-align: right;\n",
       "    }\n",
       "</style>\n",
       "<table border=\"1\" class=\"dataframe\">\n",
       "  <thead>\n",
       "    <tr style=\"text-align: right;\">\n",
       "      <th></th>\n",
       "      <th>Total Count</th>\n",
       "      <th>Percentage of Players</th>\n",
       "    </tr>\n",
       "  </thead>\n",
       "  <tbody>\n",
       "    <tr>\n",
       "      <th>Male</th>\n",
       "      <td>484</td>\n",
       "      <td>84.03</td>\n",
       "    </tr>\n",
       "    <tr>\n",
       "      <th>Female</th>\n",
       "      <td>81</td>\n",
       "      <td>14.06</td>\n",
       "    </tr>\n",
       "    <tr>\n",
       "      <th>Other / Non-Disclosed</th>\n",
       "      <td>11</td>\n",
       "      <td>1.91</td>\n",
       "    </tr>\n",
       "  </tbody>\n",
       "</table>\n",
       "</div>"
      ],
      "text/plain": [
       "                       Total Count  Percentage of Players\n",
       "Male                           484                  84.03\n",
       "Female                          81                  14.06\n",
       "Other / Non-Disclosed           11                   1.91"
      ]
     },
     "execution_count": 4,
     "metadata": {},
     "output_type": "execute_result"
    }
   ],
   "source": [
    "#have to make sure duplicate screennames are not included in the count...(total rows/entries = 780 but total players = 576)\n",
    "\n",
    "#determine gender\n",
    "total_entries = purchase_data_df[['SN', 'Gender']]\n",
    "cleaned_gender = total_entries.drop_duplicates()  #removing the duplicates/cleaning data\n",
    "gender_count = cleaned_gender['Gender'].value_counts()\n",
    "\n",
    "#determine percentage\n",
    "percentage = round((gender_count/total_players)*100, 2)\n",
    "percentage\n",
    "\n",
    "gender_demographics_df = pd.DataFrame({\"Total Count\": gender_count, \"Percentage of Players\": percentage})\n",
    "#make male, female, other the index ilo 0,1,2\n",
    "gender_demographics_df.index = ([\"Male\", \"Female\", \"Other / Non-Disclosed\"])\n",
    "gender_demographics_df\n"
   ]
  },
  {
   "cell_type": "markdown",
   "metadata": {},
   "source": [
    "\n",
    "## Purchasing Analysis (Gender)"
   ]
  },
  {
   "cell_type": "markdown",
   "metadata": {},
   "source": [
    "* Run basic calculations to obtain purchase count, avg. purchase price, avg. purchase total per person etc. by gender\n",
    "\n",
    "\n",
    "\n",
    "\n",
    "* Create a summary data frame to hold the results\n",
    "\n",
    "\n",
    "* Optional: give the displayed data cleaner formatting\n",
    "\n",
    "\n",
    "* Display the summary data frame"
   ]
  },
  {
   "cell_type": "code",
   "execution_count": 7,
   "metadata": {},
   "outputs": [
    {
     "data": {
      "text/html": [
       "<style  type=\"text/css\" >\n",
       "</style>  \n",
       "<table id=\"T_29a56790_bbac_11e8_be13_f21898169eab\" > \n",
       "<thead>    <tr> \n",
       "        <th class=\"blank level0\" ></th> \n",
       "        <th class=\"col_heading level0 col0\" >Purchase Count</th> \n",
       "        <th class=\"col_heading level0 col1\" >Average Purchase Price</th> \n",
       "        <th class=\"col_heading level0 col2\" >Total Purchase Value</th> \n",
       "    </tr>    <tr> \n",
       "        <th class=\"index_name level0\" >Gender</th> \n",
       "        <th class=\"blank\" ></th> \n",
       "        <th class=\"blank\" ></th> \n",
       "        <th class=\"blank\" ></th> \n",
       "    </tr></thead> \n",
       "<tbody>    <tr> \n",
       "        <th id=\"T_29a56790_bbac_11e8_be13_f21898169eablevel0_row0\" class=\"row_heading level0 row0\" >Female</th> \n",
       "        <td id=\"T_29a56790_bbac_11e8_be13_f21898169eabrow0_col0\" class=\"data row0 col0\" >113</td> \n",
       "        <td id=\"T_29a56790_bbac_11e8_be13_f21898169eabrow0_col1\" class=\"data row0 col1\" >$3.20</td> \n",
       "        <td id=\"T_29a56790_bbac_11e8_be13_f21898169eabrow0_col2\" class=\"data row0 col2\" >$361.94</td> \n",
       "    </tr>    <tr> \n",
       "        <th id=\"T_29a56790_bbac_11e8_be13_f21898169eablevel0_row1\" class=\"row_heading level0 row1\" >Male</th> \n",
       "        <td id=\"T_29a56790_bbac_11e8_be13_f21898169eabrow1_col0\" class=\"data row1 col0\" >652</td> \n",
       "        <td id=\"T_29a56790_bbac_11e8_be13_f21898169eabrow1_col1\" class=\"data row1 col1\" >$3.02</td> \n",
       "        <td id=\"T_29a56790_bbac_11e8_be13_f21898169eabrow1_col2\" class=\"data row1 col2\" >$1,967.64</td> \n",
       "    </tr>    <tr> \n",
       "        <th id=\"T_29a56790_bbac_11e8_be13_f21898169eablevel0_row2\" class=\"row_heading level0 row2\" >Other / Non-Disclosed</th> \n",
       "        <td id=\"T_29a56790_bbac_11e8_be13_f21898169eabrow2_col0\" class=\"data row2 col0\" >15</td> \n",
       "        <td id=\"T_29a56790_bbac_11e8_be13_f21898169eabrow2_col1\" class=\"data row2 col1\" >$3.35</td> \n",
       "        <td id=\"T_29a56790_bbac_11e8_be13_f21898169eabrow2_col2\" class=\"data row2 col2\" >$50.19</td> \n",
       "    </tr></tbody> \n",
       "</table> "
      ],
      "text/plain": [
       "<pandas.io.formats.style.Styler at 0x10e2c27b8>"
      ]
     },
     "execution_count": 7,
     "metadata": {},
     "output_type": "execute_result"
    }
   ],
   "source": [
    "#purchase count by gender\n",
    "groupby_gender = purchase_data_df[['SN','Gender']]\n",
    "purchasecount_by_gender = groupby_gender['Gender'].value_counts()\n",
    "purchasecount_by_gender\n",
    "#total purchase value by gender\n",
    "purchaseamount_by_gender = purchase_data_df.groupby(['Gender']).sum()['Price']\n",
    "purchaseamount_by_gender\n",
    "#average purchase total by gender\n",
    "averagepurchase_by_gender = round((purchaseamount_by_gender / purchasecount_by_gender), 2)\n",
    "averagepurchase_by_gender\n",
    "#ave total purchase per person\n",
    "#avepurchaseperperson = round((purchaseamount_by_gender / gender_count[\"Total Count\"]), 2)\n",
    "#avepurchaseperperson\n",
    "#NEED HELP WITH AVE TOTAL PURCHASE PER PERSON!!!!!!!!!!!!!!!!!!\n",
    "\n",
    "#all info in 1 data frame:\n",
    "gender_purchase_analysis_df = pd.DataFrame({\"Purchase Count\": purchasecount_by_gender, \"Average Purchase Price\": averagepurchase_by_gender, \\\n",
    "                                            \"Total Purchase Value\": purchaseamount_by_gender})\n",
    "    \n",
    "#make male, female, other the index ilo 0,1,2\n",
    "gender_purchase_analysis_df.index = ([\"Female\", \"Male\", \"Other / Non-Disclosed\"])\n",
    "gender_purchase_analysis_df.index.name = 'Gender' \n",
    "gender_purchase_analysis_df\n",
    "\n",
    "#adding dollar signs to currency values\n",
    "gender_purchase_analysis_df.style.format({\"Average Purchase Price\": \"${:.2f}\",\"Total Purchase Value\":\"${:,.2f}\"})"
   ]
  },
  {
   "cell_type": "raw",
   "metadata": {},
   "source": [
    "## Age Demographics"
   ]
  },
  {
   "cell_type": "markdown",
   "metadata": {},
   "source": [
    "* Establish bins for ages\n",
    "\n",
    "\n",
    "* Categorize the existing players using the age bins. Hint: use pd.cut()\n",
    "\n",
    "\n",
    "* Calculate the numbers and percentages by age group\n",
    "\n",
    "\n",
    "* Create a summary data frame to hold the results\n",
    "\n",
    "\n",
    "* Optional: round the percentage column to two decimal points\n",
    "\n",
    "\n",
    "* Display Age Demographics Table\n"
   ]
  },
  {
   "cell_type": "code",
   "execution_count": null,
   "metadata": {},
   "outputs": [],
   "source": []
  },
  {
   "cell_type": "code",
   "execution_count": 6,
   "metadata": {},
   "outputs": [
    {
     "data": {
      "text/html": [
       "<div>\n",
       "<style scoped>\n",
       "    .dataframe tbody tr th:only-of-type {\n",
       "        vertical-align: middle;\n",
       "    }\n",
       "\n",
       "    .dataframe tbody tr th {\n",
       "        vertical-align: top;\n",
       "    }\n",
       "\n",
       "    .dataframe thead th {\n",
       "        text-align: right;\n",
       "    }\n",
       "</style>\n",
       "<table border=\"1\" class=\"dataframe\">\n",
       "  <thead>\n",
       "    <tr style=\"text-align: right;\">\n",
       "      <th></th>\n",
       "      <th>Total Count</th>\n",
       "      <th>Percentage of Players</th>\n",
       "    </tr>\n",
       "  </thead>\n",
       "  <tbody>\n",
       "    <tr>\n",
       "      <th>&lt;10</th>\n",
       "      <td>17</td>\n",
       "      <td>2.95</td>\n",
       "    </tr>\n",
       "    <tr>\n",
       "      <th>10-14</th>\n",
       "      <td>22</td>\n",
       "      <td>3.82</td>\n",
       "    </tr>\n",
       "    <tr>\n",
       "      <th>15-19</th>\n",
       "      <td>107</td>\n",
       "      <td>18.58</td>\n",
       "    </tr>\n",
       "    <tr>\n",
       "      <th>20-24</th>\n",
       "      <td>258</td>\n",
       "      <td>44.79</td>\n",
       "    </tr>\n",
       "    <tr>\n",
       "      <th>25-29</th>\n",
       "      <td>77</td>\n",
       "      <td>13.37</td>\n",
       "    </tr>\n",
       "    <tr>\n",
       "      <th>30-34</th>\n",
       "      <td>52</td>\n",
       "      <td>9.03</td>\n",
       "    </tr>\n",
       "    <tr>\n",
       "      <th>35-39</th>\n",
       "      <td>31</td>\n",
       "      <td>5.38</td>\n",
       "    </tr>\n",
       "    <tr>\n",
       "      <th>40+</th>\n",
       "      <td>12</td>\n",
       "      <td>2.08</td>\n",
       "    </tr>\n",
       "  </tbody>\n",
       "</table>\n",
       "</div>"
      ],
      "text/plain": [
       "       Total Count  Percentage of Players\n",
       "<10             17                   2.95\n",
       "10-14           22                   3.82\n",
       "15-19          107                  18.58\n",
       "20-24          258                  44.79\n",
       "25-29           77                  13.37\n",
       "30-34           52                   9.03\n",
       "35-39           31                   5.38\n",
       "40+             12                   2.08"
      ]
     },
     "execution_count": 6,
     "metadata": {},
     "output_type": "execute_result"
    }
   ],
   "source": [
    "#clean data\n",
    "age_bin_df = purchase_data_df[['SN','Age']]\n",
    "age_bin_df = age_bin_df.drop_duplicates()\n",
    "\n",
    "# create bins for ages and count the quantity per bin\n",
    "age_under10 = age_bin_df[age_bin_df['Age'] < 10].count()[0]\n",
    "age_10to14 = age_bin_df[(age_bin_df['Age'] >= 10) & (age_bin_df['Age'] <= 14)].count()[0]\n",
    "age_15to19 = age_bin_df[(age_bin_df['Age'] >= 15) & (age_bin_df['Age'] <= 19)].count()[0]\n",
    "age_20to24 = age_bin_df[(age_bin_df['Age'] >= 20) & (age_bin_df['Age'] <= 24)].count()[0]\n",
    "age_25to29 = age_bin_df[(age_bin_df['Age'] >= 25) & (age_bin_df['Age'] <= 29)].count()[0]\n",
    "age_30to34 = age_bin_df[(age_bin_df['Age'] >= 30) & (age_bin_df['Age'] <= 34)].count()[0]\n",
    "age_35to39 = age_bin_df[(age_bin_df['Age'] >= 35) & (age_bin_df['Age'] <= 39)].count()[0]\n",
    "age_over40 = age_bin_df[age_bin_df['Age'] >= 40].count()[0]\n",
    "ages = [age_under10, age_10to14, age_15to19, age_20to24, age_25to29, age_30to34, age_35to39, age_over40]\n",
    "\n",
    "# get percentages\n",
    "percent_under10 = round((age_under10/total_players)*100,2)\n",
    "percent_10to14 = round((age_10to14/total_players)*100,2)\n",
    "percent_15to19 = round((age_15to19/total_players)*100,2)\n",
    "percent_20to24 = round((age_20to24/total_players)*100,2)\n",
    "percent_25to29 = round((age_25to29/total_players)*100,2)\n",
    "percent_30to34 = round((age_30to34/total_players)*100,2)\n",
    "percent_35to39 = round((age_35to39/total_players)*100,2)\n",
    "percent_over40 = round((age_over40/total_players)*100,2)\n",
    "percents_of_ages = [percent_under10, percent_10to14, percent_15to19, percent_20to24, percent_25to29, percent_30to34, percent_35to39, percent_over40]\n",
    "\n",
    "age_demographics = {\"Total Count\": ages, \"Percentage of Players\": percents_of_ages}\n",
    "    \n",
    "# Creating DataFrame & setting index\n",
    "age_demographics_df = pd.DataFrame(age_demographics)\n",
    "age_demographics_df.index = ([\"<10\", \"10-14\", \"15-19\", \"20-24\", \"25-29\", \"30-34\", \"35-39\", \"40+\"])\n",
    "age_demographics_df\n"
   ]
  },
  {
   "cell_type": "markdown",
   "metadata": {},
   "source": [
    "## Purchasing Analysis (Age)"
   ]
  },
  {
   "cell_type": "markdown",
   "metadata": {},
   "source": [
    "* Bin the purchase_data data frame by age\n",
    "\n",
    "\n",
    "* Run basic calculations to obtain purchase count, avg. purchase price, avg. purchase total per person etc. in the table below\n",
    "\n",
    "\n",
    "* Create a summary data frame to hold the results\n",
    "\n",
    "\n",
    "* Optional: give the displayed data cleaner formatting\n",
    "\n",
    "\n",
    "* Display the summary data frame"
   ]
  },
  {
   "cell_type": "code",
   "execution_count": 150,
   "metadata": {},
   "outputs": [
    {
     "data": {
      "text/html": [
       "<style  type=\"text/css\" >\n",
       "</style>  \n",
       "<table id=\"T_81b3e074_ba14_11e8_8d17_f21898169eab\" > \n",
       "<thead>    <tr> \n",
       "        <th class=\"blank level0\" ></th> \n",
       "        <th class=\"col_heading level0 col0\" >Purchase Count</th> \n",
       "        <th class=\"col_heading level0 col1\" >Average Purchase Price</th> \n",
       "        <th class=\"col_heading level0 col2\" >Total Purchase Value</th> \n",
       "        <th class=\"col_heading level0 col3\" >Ave Total Purchase per Person</th> \n",
       "    </tr>    <tr> \n",
       "        <th class=\"index_name level0\" >Age Bin</th> \n",
       "        <th class=\"blank\" ></th> \n",
       "        <th class=\"blank\" ></th> \n",
       "        <th class=\"blank\" ></th> \n",
       "        <th class=\"blank\" ></th> \n",
       "    </tr></thead> \n",
       "<tbody>    <tr> \n",
       "        <th id=\"T_81b3e074_ba14_11e8_8d17_f21898169eablevel0_row0\" class=\"row_heading level0 row0\" ><10</th> \n",
       "        <td id=\"T_81b3e074_ba14_11e8_8d17_f21898169eabrow0_col0\" class=\"data row0 col0\" >23</td> \n",
       "        <td id=\"T_81b3e074_ba14_11e8_8d17_f21898169eabrow0_col1\" class=\"data row0 col1\" >$3.35</td> \n",
       "        <td id=\"T_81b3e074_ba14_11e8_8d17_f21898169eabrow0_col2\" class=\"data row0 col2\" >$77.13</td> \n",
       "        <td id=\"T_81b3e074_ba14_11e8_8d17_f21898169eabrow0_col3\" class=\"data row0 col3\" >$9.64</td> \n",
       "    </tr>    <tr> \n",
       "        <th id=\"T_81b3e074_ba14_11e8_8d17_f21898169eablevel0_row1\" class=\"row_heading level0 row1\" >10-14</th> \n",
       "        <td id=\"T_81b3e074_ba14_11e8_8d17_f21898169eabrow1_col0\" class=\"data row1 col0\" >28</td> \n",
       "        <td id=\"T_81b3e074_ba14_11e8_8d17_f21898169eabrow1_col1\" class=\"data row1 col1\" >$2.96</td> \n",
       "        <td id=\"T_81b3e074_ba14_11e8_8d17_f21898169eabrow1_col2\" class=\"data row1 col2\" >$82.78</td> \n",
       "        <td id=\"T_81b3e074_ba14_11e8_8d17_f21898169eabrow1_col3\" class=\"data row1 col3\" >$10.35</td> \n",
       "    </tr>    <tr> \n",
       "        <th id=\"T_81b3e074_ba14_11e8_8d17_f21898169eablevel0_row2\" class=\"row_heading level0 row2\" >15-19</th> \n",
       "        <td id=\"T_81b3e074_ba14_11e8_8d17_f21898169eabrow2_col0\" class=\"data row2 col0\" >136</td> \n",
       "        <td id=\"T_81b3e074_ba14_11e8_8d17_f21898169eabrow2_col1\" class=\"data row2 col1\" >$3.04</td> \n",
       "        <td id=\"T_81b3e074_ba14_11e8_8d17_f21898169eabrow2_col2\" class=\"data row2 col2\" >$412.89</td> \n",
       "        <td id=\"T_81b3e074_ba14_11e8_8d17_f21898169eabrow2_col3\" class=\"data row2 col3\" >$51.61</td> \n",
       "    </tr>    <tr> \n",
       "        <th id=\"T_81b3e074_ba14_11e8_8d17_f21898169eablevel0_row3\" class=\"row_heading level0 row3\" >20-24</th> \n",
       "        <td id=\"T_81b3e074_ba14_11e8_8d17_f21898169eabrow3_col0\" class=\"data row3 col0\" >365</td> \n",
       "        <td id=\"T_81b3e074_ba14_11e8_8d17_f21898169eabrow3_col1\" class=\"data row3 col1\" >$3.05</td> \n",
       "        <td id=\"T_81b3e074_ba14_11e8_8d17_f21898169eabrow3_col2\" class=\"data row3 col2\" >$1,114.06</td> \n",
       "        <td id=\"T_81b3e074_ba14_11e8_8d17_f21898169eabrow3_col3\" class=\"data row3 col3\" >$139.26</td> \n",
       "    </tr>    <tr> \n",
       "        <th id=\"T_81b3e074_ba14_11e8_8d17_f21898169eablevel0_row4\" class=\"row_heading level0 row4\" >25-29</th> \n",
       "        <td id=\"T_81b3e074_ba14_11e8_8d17_f21898169eabrow4_col0\" class=\"data row4 col0\" >101</td> \n",
       "        <td id=\"T_81b3e074_ba14_11e8_8d17_f21898169eabrow4_col1\" class=\"data row4 col1\" >$2.90</td> \n",
       "        <td id=\"T_81b3e074_ba14_11e8_8d17_f21898169eabrow4_col2\" class=\"data row4 col2\" >$293.00</td> \n",
       "        <td id=\"T_81b3e074_ba14_11e8_8d17_f21898169eabrow4_col3\" class=\"data row4 col3\" >$36.62</td> \n",
       "    </tr>    <tr> \n",
       "        <th id=\"T_81b3e074_ba14_11e8_8d17_f21898169eablevel0_row5\" class=\"row_heading level0 row5\" >30-34</th> \n",
       "        <td id=\"T_81b3e074_ba14_11e8_8d17_f21898169eabrow5_col0\" class=\"data row5 col0\" >73</td> \n",
       "        <td id=\"T_81b3e074_ba14_11e8_8d17_f21898169eabrow5_col1\" class=\"data row5 col1\" >$2.93</td> \n",
       "        <td id=\"T_81b3e074_ba14_11e8_8d17_f21898169eabrow5_col2\" class=\"data row5 col2\" >$214.00</td> \n",
       "        <td id=\"T_81b3e074_ba14_11e8_8d17_f21898169eabrow5_col3\" class=\"data row5 col3\" >$26.75</td> \n",
       "    </tr>    <tr> \n",
       "        <th id=\"T_81b3e074_ba14_11e8_8d17_f21898169eablevel0_row6\" class=\"row_heading level0 row6\" >35-39</th> \n",
       "        <td id=\"T_81b3e074_ba14_11e8_8d17_f21898169eabrow6_col0\" class=\"data row6 col0\" >41</td> \n",
       "        <td id=\"T_81b3e074_ba14_11e8_8d17_f21898169eabrow6_col1\" class=\"data row6 col1\" >$3.60</td> \n",
       "        <td id=\"T_81b3e074_ba14_11e8_8d17_f21898169eabrow6_col2\" class=\"data row6 col2\" >$147.67</td> \n",
       "        <td id=\"T_81b3e074_ba14_11e8_8d17_f21898169eabrow6_col3\" class=\"data row6 col3\" >$18.46</td> \n",
       "    </tr>    <tr> \n",
       "        <th id=\"T_81b3e074_ba14_11e8_8d17_f21898169eablevel0_row7\" class=\"row_heading level0 row7\" >40+</th> \n",
       "        <td id=\"T_81b3e074_ba14_11e8_8d17_f21898169eabrow7_col0\" class=\"data row7 col0\" >13</td> \n",
       "        <td id=\"T_81b3e074_ba14_11e8_8d17_f21898169eabrow7_col1\" class=\"data row7 col1\" >$2.94</td> \n",
       "        <td id=\"T_81b3e074_ba14_11e8_8d17_f21898169eabrow7_col2\" class=\"data row7 col2\" >$38.24</td> \n",
       "        <td id=\"T_81b3e074_ba14_11e8_8d17_f21898169eabrow7_col3\" class=\"data row7 col3\" >$4.78</td> \n",
       "    </tr></tbody> \n",
       "</table> "
      ],
      "text/plain": [
       "<pandas.io.formats.style.Styler at 0x11e4e5780>"
      ]
     },
     "execution_count": 150,
     "metadata": {},
     "output_type": "execute_result"
    }
   ],
   "source": [
    "#use bins for ages:\n",
    "\n",
    "bins = [0, 9, 14, 19, 24, 29, 34, 39, 100]\n",
    "bin_labels = [\"<10\", \"10-14\", \"15-19\", \"20-24\", \"25-29\", \"30-34\", \"35-39\", \"40+\"]\n",
    "\n",
    "# Slice the data and place it into bins\n",
    "pd.cut(age_bin_df['Age'], bins, labels=bin_labels).head()\n",
    "\n",
    "# Place the data series into a new column inside of the DataFrame\n",
    "purchase_data_df['Age Bin'] = pd.cut(purchase_data_df['Age'], bins, labels=bin_labels)\n",
    "\n",
    "\n",
    "purchase_data_df.head()\n",
    "\n",
    "#Purchase Count:\n",
    "age_purchase_count = purchase_data_df.groupby('Age Bin')['Item Name']\n",
    "age_purchase_count.count()\n",
    "\n",
    "#Average purchase price by age range: \n",
    "age_averagepurchaseprice = purchase_data_df.groupby('Age Bin')['Price'].mean()\n",
    "age_averagepurchaseprice.round(2)\n",
    "\n",
    "#Total purchase price by age range:\n",
    "age_totalpurchaseprice = purchase_data_df.groupby('Age Bin')['Price'].sum()\n",
    "age_totalpurchaseprice.round(2)\n",
    "\n",
    "#Ave Total Purchase per Person:\n",
    "x = purchase_data_df.groupby('Age Bin')['SN'].nunique()\n",
    "x\n",
    "ave_total = (age_totalpurchaseprice/x.count())\n",
    "\n",
    "#HELP - NEED TO GET AVERAGE TOTAL PURCHASE PER PERSON CORRECTED(SEE THE 3 LINES ABOVE)\n",
    "\n",
    "#final data frame:\n",
    "Purchase_Analysis_df = pd.DataFrame({\"Purchase Count\": age_purchase_count.count(),\\\n",
    "                                     \"Average Purchase Price\": age_averagepurchaseprice.round(2), \\\n",
    "                                     \"Total Purchase Value\": age_totalpurchaseprice.round(2), \\\n",
    "                                    \"Ave Total Purchase per Person\": ave_total})\n",
    "Purchase_Analysis_df.head(10)\n",
    "\n",
    "Purchase_Analysis_df.style.format({\"Average Purchase Price\": \"${:.2f}\",\"Total Purchase Value\":\"${:,.2f}\", \"Ave Total Purchase per Person\": \"${:.2f}\"})"
   ]
  },
  {
   "cell_type": "markdown",
   "metadata": {},
   "source": [
    "## Top Spenders"
   ]
  },
  {
   "cell_type": "markdown",
   "metadata": {},
   "source": [
    "* Run basic calculations to obtain the results in the table below\n",
    "\n",
    "\n",
    "* Create a summary data frame to hold the results\n",
    "\n",
    "\n",
    "* Sort the total purchase value column in descending order\n",
    "\n",
    "\n",
    "* Optional: give the displayed data cleaner formatting\n",
    "\n",
    "\n",
    "* Display a preview of the summary data frame\n",
    "\n"
   ]
  },
  {
   "cell_type": "code",
   "execution_count": 171,
   "metadata": {},
   "outputs": [
    {
     "data": {
      "text/html": [
       "<style  type=\"text/css\" >\n",
       "</style>  \n",
       "<table id=\"T_edd35be8_ba17_11e8_8b51_f21898169eab\" > \n",
       "<thead>    <tr> \n",
       "        <th class=\"blank level0\" ></th> \n",
       "        <th class=\"col_heading level0 col0\" >Purchase Count</th> \n",
       "        <th class=\"col_heading level0 col1\" >Average Purchase Price</th> \n",
       "        <th class=\"col_heading level0 col2\" >Total Purchase Value</th> \n",
       "    </tr>    <tr> \n",
       "        <th class=\"index_name level0\" >SN</th> \n",
       "        <th class=\"blank\" ></th> \n",
       "        <th class=\"blank\" ></th> \n",
       "        <th class=\"blank\" ></th> \n",
       "    </tr></thead> \n",
       "<tbody>    <tr> \n",
       "        <th id=\"T_edd35be8_ba17_11e8_8b51_f21898169eablevel0_row0\" class=\"row_heading level0 row0\" >Lisosia93</th> \n",
       "        <td id=\"T_edd35be8_ba17_11e8_8b51_f21898169eabrow0_col0\" class=\"data row0 col0\" >5</td> \n",
       "        <td id=\"T_edd35be8_ba17_11e8_8b51_f21898169eabrow0_col1\" class=\"data row0 col1\" >$3.79</td> \n",
       "        <td id=\"T_edd35be8_ba17_11e8_8b51_f21898169eabrow0_col2\" class=\"data row0 col2\" >$18.96</td> \n",
       "    </tr>    <tr> \n",
       "        <th id=\"T_edd35be8_ba17_11e8_8b51_f21898169eablevel0_row1\" class=\"row_heading level0 row1\" >Idastidru52</th> \n",
       "        <td id=\"T_edd35be8_ba17_11e8_8b51_f21898169eabrow1_col0\" class=\"data row1 col0\" >4</td> \n",
       "        <td id=\"T_edd35be8_ba17_11e8_8b51_f21898169eabrow1_col1\" class=\"data row1 col1\" >$3.86</td> \n",
       "        <td id=\"T_edd35be8_ba17_11e8_8b51_f21898169eabrow1_col2\" class=\"data row1 col2\" >$15.45</td> \n",
       "    </tr>    <tr> \n",
       "        <th id=\"T_edd35be8_ba17_11e8_8b51_f21898169eablevel0_row2\" class=\"row_heading level0 row2\" >Chamjask73</th> \n",
       "        <td id=\"T_edd35be8_ba17_11e8_8b51_f21898169eabrow2_col0\" class=\"data row2 col0\" >3</td> \n",
       "        <td id=\"T_edd35be8_ba17_11e8_8b51_f21898169eabrow2_col1\" class=\"data row2 col1\" >$4.61</td> \n",
       "        <td id=\"T_edd35be8_ba17_11e8_8b51_f21898169eabrow2_col2\" class=\"data row2 col2\" >$13.83</td> \n",
       "    </tr>    <tr> \n",
       "        <th id=\"T_edd35be8_ba17_11e8_8b51_f21898169eablevel0_row3\" class=\"row_heading level0 row3\" >Iral74</th> \n",
       "        <td id=\"T_edd35be8_ba17_11e8_8b51_f21898169eabrow3_col0\" class=\"data row3 col0\" >4</td> \n",
       "        <td id=\"T_edd35be8_ba17_11e8_8b51_f21898169eabrow3_col1\" class=\"data row3 col1\" >$3.40</td> \n",
       "        <td id=\"T_edd35be8_ba17_11e8_8b51_f21898169eabrow3_col2\" class=\"data row3 col2\" >$13.62</td> \n",
       "    </tr>    <tr> \n",
       "        <th id=\"T_edd35be8_ba17_11e8_8b51_f21898169eablevel0_row4\" class=\"row_heading level0 row4\" >Iskadarya95</th> \n",
       "        <td id=\"T_edd35be8_ba17_11e8_8b51_f21898169eabrow4_col0\" class=\"data row4 col0\" >3</td> \n",
       "        <td id=\"T_edd35be8_ba17_11e8_8b51_f21898169eabrow4_col1\" class=\"data row4 col1\" >$4.37</td> \n",
       "        <td id=\"T_edd35be8_ba17_11e8_8b51_f21898169eabrow4_col2\" class=\"data row4 col2\" >$13.10</td> \n",
       "    </tr></tbody> \n",
       "</table> "
      ],
      "text/plain": [
       "<pandas.io.formats.style.Styler at 0x11e2d3940>"
      ]
     },
     "execution_count": 171,
     "metadata": {},
     "output_type": "execute_result"
    }
   ],
   "source": [
    "SN_purchase = purchase_data_df.groupby('SN').count()['Price'].rename(\"Purchase Count\")\n",
    "\n",
    "SN_average_price = purchase_data_df.groupby('SN').mean()['Price'].rename(\"Average Purchase Price\")\n",
    "\n",
    "SN_total_df = purchase_data_df.groupby('SN').sum()['Price'].rename(\"Total Purchase Value\")\n",
    "\n",
    "\n",
    "#summary data frame:\n",
    "top_spenders_df = pd.DataFrame({\"Purchase Count\":SN_purchase, \\\n",
    "                                   \"Average Purchase Price\": SN_average_price, \\\n",
    "                                   \"Total Purchase Value\": SN_total_df})\n",
    "top_spenders_df.head()\n",
    "\n",
    "#Get the hightest total purchase values at the top:\n",
    "top_five = top_spenders_df.sort_values(\"Total Purchase Value\", ascending=False)\n",
    "top_five.head()\n",
    "\n",
    "top_five.head().style.format({\"Average Purchase Price\": \"${:.2f}\",\"Total Purchase Value\":\"${:,.2f}\"})\n"
   ]
  },
  {
   "cell_type": "markdown",
   "metadata": {},
   "source": [
    "## Most Popular Items"
   ]
  },
  {
   "cell_type": "markdown",
   "metadata": {},
   "source": [
    "* Retrieve the Item ID, Item Name, and Item Price columns\n",
    "\n",
    "\n",
    "* Group by Item ID and Item Name. Perform calculations to obtain purchase count, item price, and total purchase value\n",
    "\n",
    "\n",
    "* Create a summary data frame to hold the results\n",
    "\n",
    "\n",
    "* Sort the purchase count column in descending order\n",
    "\n",
    "\n",
    "* Optional: give the displayed data cleaner formatting\n",
    "\n",
    "\n",
    "* Display a preview of the summary data frame\n",
    "\n"
   ]
  },
  {
   "cell_type": "code",
   "execution_count": 201,
   "metadata": {},
   "outputs": [
    {
     "data": {
      "text/html": [
       "<style  type=\"text/css\" >\n",
       "</style>  \n",
       "<table id=\"T_08f4c606_ba1e_11e8_b18b_f21898169eab\" > \n",
       "<thead>    <tr> \n",
       "        <th class=\"blank\" ></th> \n",
       "        <th class=\"blank level0\" ></th> \n",
       "        <th class=\"col_heading level0 col0\" >Purchase Count</th> \n",
       "        <th class=\"col_heading level0 col1\" >Item Price</th> \n",
       "        <th class=\"col_heading level0 col2\" >Total Purchase Value</th> \n",
       "    </tr>    <tr> \n",
       "        <th class=\"index_name level0\" >Item ID</th> \n",
       "        <th class=\"index_name level1\" >Item Name</th> \n",
       "        <th class=\"blank\" ></th> \n",
       "        <th class=\"blank\" ></th> \n",
       "        <th class=\"blank\" ></th> \n",
       "    </tr></thead> \n",
       "<tbody>    <tr> \n",
       "        <th id=\"T_08f4c606_ba1e_11e8_b18b_f21898169eablevel0_row0\" class=\"row_heading level0 row0\" >178</th> \n",
       "        <th id=\"T_08f4c606_ba1e_11e8_b18b_f21898169eablevel1_row0\" class=\"row_heading level1 row0\" >Oathbreaker, Last Hope of the Breaking Storm</th> \n",
       "        <td id=\"T_08f4c606_ba1e_11e8_b18b_f21898169eabrow0_col0\" class=\"data row0 col0\" >12</td> \n",
       "        <td id=\"T_08f4c606_ba1e_11e8_b18b_f21898169eabrow0_col1\" class=\"data row0 col1\" >$4.23</td> \n",
       "        <td id=\"T_08f4c606_ba1e_11e8_b18b_f21898169eabrow0_col2\" class=\"data row0 col2\" >$50.76</td> \n",
       "    </tr>    <tr> \n",
       "        <th id=\"T_08f4c606_ba1e_11e8_b18b_f21898169eablevel0_row1\" class=\"row_heading level0 row1\" >145</th> \n",
       "        <th id=\"T_08f4c606_ba1e_11e8_b18b_f21898169eablevel1_row1\" class=\"row_heading level1 row1\" >Fiery Glass Crusader</th> \n",
       "        <td id=\"T_08f4c606_ba1e_11e8_b18b_f21898169eabrow1_col0\" class=\"data row1 col0\" >9</td> \n",
       "        <td id=\"T_08f4c606_ba1e_11e8_b18b_f21898169eabrow1_col1\" class=\"data row1 col1\" >$4.58</td> \n",
       "        <td id=\"T_08f4c606_ba1e_11e8_b18b_f21898169eabrow1_col2\" class=\"data row1 col2\" >$41.22</td> \n",
       "    </tr>    <tr> \n",
       "        <th id=\"T_08f4c606_ba1e_11e8_b18b_f21898169eablevel0_row2\" class=\"row_heading level0 row2\" >108</th> \n",
       "        <th id=\"T_08f4c606_ba1e_11e8_b18b_f21898169eablevel1_row2\" class=\"row_heading level1 row2\" >Extraction, Quickblade Of Trembling Hands</th> \n",
       "        <td id=\"T_08f4c606_ba1e_11e8_b18b_f21898169eabrow2_col0\" class=\"data row2 col0\" >9</td> \n",
       "        <td id=\"T_08f4c606_ba1e_11e8_b18b_f21898169eabrow2_col1\" class=\"data row2 col1\" >$3.53</td> \n",
       "        <td id=\"T_08f4c606_ba1e_11e8_b18b_f21898169eabrow2_col2\" class=\"data row2 col2\" >$31.77</td> \n",
       "    </tr>    <tr> \n",
       "        <th id=\"T_08f4c606_ba1e_11e8_b18b_f21898169eablevel0_row3\" class=\"row_heading level0 row3\" >82</th> \n",
       "        <th id=\"T_08f4c606_ba1e_11e8_b18b_f21898169eablevel1_row3\" class=\"row_heading level1 row3\" >Nirvana</th> \n",
       "        <td id=\"T_08f4c606_ba1e_11e8_b18b_f21898169eabrow3_col0\" class=\"data row3 col0\" >9</td> \n",
       "        <td id=\"T_08f4c606_ba1e_11e8_b18b_f21898169eabrow3_col1\" class=\"data row3 col1\" >$4.90</td> \n",
       "        <td id=\"T_08f4c606_ba1e_11e8_b18b_f21898169eabrow3_col2\" class=\"data row3 col2\" >$44.10</td> \n",
       "    </tr>    <tr> \n",
       "        <th id=\"T_08f4c606_ba1e_11e8_b18b_f21898169eablevel0_row4\" class=\"row_heading level0 row4\" >19</th> \n",
       "        <th id=\"T_08f4c606_ba1e_11e8_b18b_f21898169eablevel1_row4\" class=\"row_heading level1 row4\" >Pursuit, Cudgel of Necromancy</th> \n",
       "        <td id=\"T_08f4c606_ba1e_11e8_b18b_f21898169eabrow4_col0\" class=\"data row4 col0\" >8</td> \n",
       "        <td id=\"T_08f4c606_ba1e_11e8_b18b_f21898169eabrow4_col1\" class=\"data row4 col1\" >$1.02</td> \n",
       "        <td id=\"T_08f4c606_ba1e_11e8_b18b_f21898169eabrow4_col2\" class=\"data row4 col2\" >$8.16</td> \n",
       "    </tr></tbody> \n",
       "</table> "
      ],
      "text/plain": [
       "<pandas.io.formats.style.Styler at 0x11e3f1be0>"
      ]
     },
     "execution_count": 201,
     "metadata": {},
     "output_type": "execute_result"
    }
   ],
   "source": [
    "table = purchase_data_df[[\"Item ID\", \"Item Name\", \"Price\"]].head()\n",
    "table.head()\n",
    "\n",
    "grouped_table = table.groupby([\"Item ID\", \"Item Name\"])\n",
    "grouped_table.head()\n",
    " \n",
    "\n",
    "items_purchase_count = purchase_data_df.groupby([\"Item ID\", \"Item Name\"]).count()[\"Price\"]\n",
    "items_price = purchase_data_df.groupby([\"Item ID\", \"Item Name\"]).mean()[\"Price\"]\n",
    "items_value_total = purchase_data_df.groupby([\"Item ID\", \"Item Name\"]).sum()[\"Price\"]\n",
    "#Most popular items data frame\n",
    "most_popular_df = pd.DataFrame({\"Purchase Count\":items_purchase_count, \\\n",
    "                                   \"Item Price\":items_price, \\\n",
    "                                   \"Total Purchase Value\":items_value_total})\n",
    "top_five_popular = most_popular_df.sort_values(\"Purchase Count\", ascending=False)\n",
    "top_five_popular.head()\n",
    "\n",
    "top_five_popular.head().style.format({\"Item Price\": \"${:.2f}\",\"Total Purchase Value\":\"${:.2f}\"})"
   ]
  },
  {
   "cell_type": "markdown",
   "metadata": {},
   "source": [
    "## Most Profitable Items"
   ]
  },
  {
   "cell_type": "markdown",
   "metadata": {},
   "source": [
    "* Sort the above table by total purchase value in descending order\n",
    "\n",
    "\n",
    "* Optional: give the displayed data cleaner formatting\n",
    "\n",
    "\n",
    "* Display a preview of the data frame\n",
    "\n"
   ]
  },
  {
   "cell_type": "code",
   "execution_count": 203,
   "metadata": {
    "scrolled": true
   },
   "outputs": [
    {
     "data": {
      "text/html": [
       "<style  type=\"text/css\" >\n",
       "</style>  \n",
       "<table id=\"T_163cef1e_ba1e_11e8_8c4e_f21898169eab\" > \n",
       "<thead>    <tr> \n",
       "        <th class=\"blank\" ></th> \n",
       "        <th class=\"blank level0\" ></th> \n",
       "        <th class=\"col_heading level0 col0\" >Purchase Count</th> \n",
       "        <th class=\"col_heading level0 col1\" >Item Price</th> \n",
       "        <th class=\"col_heading level0 col2\" >Total Purchase Value</th> \n",
       "    </tr>    <tr> \n",
       "        <th class=\"index_name level0\" >Item ID</th> \n",
       "        <th class=\"index_name level1\" >Item Name</th> \n",
       "        <th class=\"blank\" ></th> \n",
       "        <th class=\"blank\" ></th> \n",
       "        <th class=\"blank\" ></th> \n",
       "    </tr></thead> \n",
       "<tbody>    <tr> \n",
       "        <th id=\"T_163cef1e_ba1e_11e8_8c4e_f21898169eablevel0_row0\" class=\"row_heading level0 row0\" >178</th> \n",
       "        <th id=\"T_163cef1e_ba1e_11e8_8c4e_f21898169eablevel1_row0\" class=\"row_heading level1 row0\" >Oathbreaker, Last Hope of the Breaking Storm</th> \n",
       "        <td id=\"T_163cef1e_ba1e_11e8_8c4e_f21898169eabrow0_col0\" class=\"data row0 col0\" >12</td> \n",
       "        <td id=\"T_163cef1e_ba1e_11e8_8c4e_f21898169eabrow0_col1\" class=\"data row0 col1\" >$4.23</td> \n",
       "        <td id=\"T_163cef1e_ba1e_11e8_8c4e_f21898169eabrow0_col2\" class=\"data row0 col2\" >$50.76</td> \n",
       "    </tr>    <tr> \n",
       "        <th id=\"T_163cef1e_ba1e_11e8_8c4e_f21898169eablevel0_row1\" class=\"row_heading level0 row1\" >82</th> \n",
       "        <th id=\"T_163cef1e_ba1e_11e8_8c4e_f21898169eablevel1_row1\" class=\"row_heading level1 row1\" >Nirvana</th> \n",
       "        <td id=\"T_163cef1e_ba1e_11e8_8c4e_f21898169eabrow1_col0\" class=\"data row1 col0\" >9</td> \n",
       "        <td id=\"T_163cef1e_ba1e_11e8_8c4e_f21898169eabrow1_col1\" class=\"data row1 col1\" >$4.90</td> \n",
       "        <td id=\"T_163cef1e_ba1e_11e8_8c4e_f21898169eabrow1_col2\" class=\"data row1 col2\" >$44.10</td> \n",
       "    </tr>    <tr> \n",
       "        <th id=\"T_163cef1e_ba1e_11e8_8c4e_f21898169eablevel0_row2\" class=\"row_heading level0 row2\" >145</th> \n",
       "        <th id=\"T_163cef1e_ba1e_11e8_8c4e_f21898169eablevel1_row2\" class=\"row_heading level1 row2\" >Fiery Glass Crusader</th> \n",
       "        <td id=\"T_163cef1e_ba1e_11e8_8c4e_f21898169eabrow2_col0\" class=\"data row2 col0\" >9</td> \n",
       "        <td id=\"T_163cef1e_ba1e_11e8_8c4e_f21898169eabrow2_col1\" class=\"data row2 col1\" >$4.58</td> \n",
       "        <td id=\"T_163cef1e_ba1e_11e8_8c4e_f21898169eabrow2_col2\" class=\"data row2 col2\" >$41.22</td> \n",
       "    </tr>    <tr> \n",
       "        <th id=\"T_163cef1e_ba1e_11e8_8c4e_f21898169eablevel0_row3\" class=\"row_heading level0 row3\" >92</th> \n",
       "        <th id=\"T_163cef1e_ba1e_11e8_8c4e_f21898169eablevel1_row3\" class=\"row_heading level1 row3\" >Final Critic</th> \n",
       "        <td id=\"T_163cef1e_ba1e_11e8_8c4e_f21898169eabrow3_col0\" class=\"data row3 col0\" >8</td> \n",
       "        <td id=\"T_163cef1e_ba1e_11e8_8c4e_f21898169eabrow3_col1\" class=\"data row3 col1\" >$4.88</td> \n",
       "        <td id=\"T_163cef1e_ba1e_11e8_8c4e_f21898169eabrow3_col2\" class=\"data row3 col2\" >$39.04</td> \n",
       "    </tr>    <tr> \n",
       "        <th id=\"T_163cef1e_ba1e_11e8_8c4e_f21898169eablevel0_row4\" class=\"row_heading level0 row4\" >103</th> \n",
       "        <th id=\"T_163cef1e_ba1e_11e8_8c4e_f21898169eablevel1_row4\" class=\"row_heading level1 row4\" >Singed Scalpel</th> \n",
       "        <td id=\"T_163cef1e_ba1e_11e8_8c4e_f21898169eabrow4_col0\" class=\"data row4 col0\" >8</td> \n",
       "        <td id=\"T_163cef1e_ba1e_11e8_8c4e_f21898169eabrow4_col1\" class=\"data row4 col1\" >$4.35</td> \n",
       "        <td id=\"T_163cef1e_ba1e_11e8_8c4e_f21898169eabrow4_col2\" class=\"data row4 col2\" >$34.80</td> \n",
       "    </tr></tbody> \n",
       "</table> "
      ],
      "text/plain": [
       "<pandas.io.formats.style.Styler at 0x11e479c50>"
      ]
     },
     "execution_count": 203,
     "metadata": {},
     "output_type": "execute_result"
    }
   ],
   "source": [
    "most_profitable = most_popular_df.sort_values(\"Total Purchase Value\", ascending=False)\n",
    "most_profitable.head()\n",
    "\n",
    "most_profitable.head().style.format({\"Item Price\": \"${:.2f}\",\"Total Purchase Value\":\"${:.2f}\"})"
   ]
  },
  {
   "cell_type": "code",
   "execution_count": null,
   "metadata": {},
   "outputs": [],
   "source": []
  }
 ],
 "metadata": {
  "anaconda-cloud": {},
  "kernel_info": {
   "name": "python3"
  },
  "kernelspec": {
   "display_name": "Python 3",
   "language": "python",
   "name": "python3"
  },
  "language_info": {
   "codemirror_mode": {
    "name": "ipython",
    "version": 3
   },
   "file_extension": ".py",
   "mimetype": "text/x-python",
   "name": "python",
   "nbconvert_exporter": "python",
   "pygments_lexer": "ipython3",
   "version": "3.6.5"
  },
  "nteract": {
   "version": "0.2.0"
  }
 },
 "nbformat": 4,
 "nbformat_minor": 2
}
